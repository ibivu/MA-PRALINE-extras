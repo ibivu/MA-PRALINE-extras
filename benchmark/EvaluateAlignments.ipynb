{
 "cells": [
  {
   "cell_type": "code",
   "execution_count": 1,
   "metadata": {},
   "outputs": [],
   "source": [
    "import subprocess\n",
    "from collections import defaultdict\n",
    "import os\n",
    "import os.path as osp\n",
    "import re\n",
    "import pickle\n",
    "\n",
    "import numpy as np"
   ]
  },
  {
   "cell_type": "code",
   "execution_count": 2,
   "metadata": {},
   "outputs": [],
   "source": [
    "RE_FNAME = re.compile(r'(BBA\\d{4})_alpha_(\\d+).aln')\n",
    "RE_OUTPUT_CS = re.compile(r'CS score= (\\d\\.\\d+)')\n",
    "RE_OUTPUT_SP = re.compile(r'SP score= (\\d\\.\\d+)')\n",
    "RE_OUTPUT_CS_JAVA = re.compile(r'TC (\\d\\.\\d+)')\n",
    "RE_OUTPUT_SP_JAVA = re.compile(r'SP-Score (\\d\\.\\d+)')\n",
    "ALIGNMENTS_PRALINE_DIR = './alignments/praline/'\n",
    "ALIGNMENTS_REFERENCE_DIR = './RV100/'\n",
    "SCORE_BINARY = './bin/bali_score'\n",
    "SCORE_JAR = './FastSP/FastSP.jar'"
   ]
  },
  {
   "cell_type": "code",
   "execution_count": 3,
   "metadata": {},
   "outputs": [],
   "source": [
    "cs_score_per_group_alpha = defaultdict(dict)\n",
    "sp_score_per_group_alpha = defaultdict(dict)\n",
    "\n",
    "for fname in os.listdir(ALIGNMENTS_PRALINE_DIR):\n",
    "    m = RE_FNAME.match(fname)\n",
    "    if not m:\n",
    "        continue\n",
    "    \n",
    "    balibase_group = m.group(1)\n",
    "    alpha = int(m.group(2))\n",
    "    \n",
    "    ref_path = osp.join(ALIGNMENTS_REFERENCE_DIR, \"{}.xml\".format(balibase_group))\n",
    "    aln_path = osp.join(ALIGNMENTS_PRALINE_DIR, fname)\n",
    "    \n",
    "    output = subprocess.check_output([SCORE_BINARY, ref_path, aln_path])\n",
    "    \n",
    "    cs_score = float(RE_OUTPUT_CS.search(output).group(1))\n",
    "    sp_score = float(RE_OUTPUT_SP.search(output).group(1))\n",
    "    \n",
    "    cs_score_per_group_alpha[balibase_group][alpha] = cs_score\n",
    "    sp_score_per_group_alpha[balibase_group][alpha] = sp_score"
   ]
  },
  {
   "cell_type": "code",
   "execution_count": 7,
   "metadata": {},
   "outputs": [],
   "source": [
    "cs_score_per_group_alpha = defaultdict(dict)\n",
    "sp_score_per_group_alpha = defaultdict(dict)\n",
    "\n",
    "for fname in os.listdir(ALIGNMENTS_PRALINE_DIR):\n",
    "    m = RE_FNAME.match(fname)\n",
    "    if not m:\n",
    "        continue\n",
    "    \n",
    "    balibase_group = m.group(1)\n",
    "    alpha = int(m.group(2))\n",
    "    \n",
    "    ref_path = osp.join(ALIGNMENTS_REFERENCE_DIR, \"{}.aln\".format(balibase_group))\n",
    "    aln_path = osp.join(ALIGNMENTS_PRALINE_DIR, fname)\n",
    "    \n",
    "    output = subprocess.check_output(['java', '-jar', SCORE_JAR, '-r', ref_path, '-e', aln_path])\n",
    "    \n",
    "    cs_score = float(RE_OUTPUT_CS_JAVA.search(output).group(1))\n",
    "    sp_score = float(RE_OUTPUT_SP_JAVA.search(output).group(1))\n",
    "    \n",
    "    cs_score_per_group_alpha[balibase_group][alpha] = cs_score\n",
    "    sp_score_per_group_alpha[balibase_group][alpha] = sp_score"
   ]
  },
  {
   "cell_type": "code",
   "execution_count": 8,
   "metadata": {},
   "outputs": [],
   "source": [
    "ALPHAS = [0, 5, 10, 15, 20, 25, 30, 35, 40, 45, 50, 100]\n",
    "\n",
    "cs_scores_per_alpha = defaultdict(list)\n",
    "sp_scores_per_alpha = defaultdict(list)\n",
    "\n",
    "for alpha in ALPHAS:\n",
    "    for score_dict in cs_score_per_group_alpha.itervalues():\n",
    "        cs_scores_per_alpha[alpha].append(score_dict[alpha])\n",
    "    for score_dict in sp_score_per_group_alpha.itervalues():\n",
    "        sp_scores_per_alpha[alpha].append(score_dict[alpha])"
   ]
  },
  {
   "cell_type": "code",
   "execution_count": 9,
   "metadata": {},
   "outputs": [
    {
     "name": "stdout",
     "output_type": "stream",
     "text": [
      "  0  0.334  1.018\n",
      "  5  0.224  0.518\n",
      " 10  0.213  0.461\n",
      " 15  0.213  0.648\n",
      " 20  0.224  0.685\n",
      " 25  0.246  0.886\n",
      " 30  0.214  0.876\n",
      " 35  0.155  0.460\n",
      " 40  0.187  0.915\n",
      " 45  0.200  0.952\n",
      " 50  0.159  0.837\n",
      "100  0.217  1.160\n"
     ]
    }
   ],
   "source": [
    "for alpha in ALPHAS:\n",
    "    scores = cs_scores_per_alpha[alpha]\n",
    "    \n",
    "    a = np.array(scores)\n",
    "    print \"{:>3}  {:.3f}  {:.3f}\".format(alpha, a.mean(), a.std())"
   ]
  },
  {
   "cell_type": "code",
   "execution_count": 10,
   "metadata": {},
   "outputs": [
    {
     "name": "stdout",
     "output_type": "stream",
     "text": [
      "  0  0.664  0.188\n",
      "  5  0.668  0.186\n",
      " 10  0.661  0.188\n",
      " 15  0.646  0.189\n",
      " 20  0.630  0.191\n",
      " 25  0.603  0.197\n",
      " 30  0.576  0.202\n",
      " 35  0.554  0.201\n",
      " 40  0.528  0.201\n",
      " 45  0.502  0.199\n",
      " 50  0.480  0.202\n",
      "100  0.341  0.190\n"
     ]
    }
   ],
   "source": [
    "for alpha in ALPHAS:\n",
    "    scores = sp_scores_per_alpha[alpha]\n",
    "    \n",
    "    a = np.array(scores)\n",
    "    print \"{:>3}  {:.3f}  {:.3f}\".format(alpha, a.mean(), a.std())"
   ]
  },
  {
   "cell_type": "code",
   "execution_count": 11,
   "metadata": {},
   "outputs": [],
   "source": [
    "with open('./sp_scores.pickle', 'wb') as fo:\n",
    "    pickle.dump((sp_scores_per_alpha, sp_score_per_group_alpha), fo)"
   ]
  },
  {
   "cell_type": "code",
   "execution_count": null,
   "metadata": {},
   "outputs": [],
   "source": []
  }
 ],
 "metadata": {
  "kernelspec": {
   "display_name": "Python 2",
   "language": "python",
   "name": "python2"
  },
  "language_info": {
   "codemirror_mode": {
    "name": "ipython",
    "version": 2
   },
   "file_extension": ".py",
   "mimetype": "text/x-python",
   "name": "python",
   "nbconvert_exporter": "python",
   "pygments_lexer": "ipython2",
   "version": "2.7.10"
  },
  "nav_menu": {},
  "toc": {
   "navigate_menu": true,
   "number_sections": true,
   "sideBar": true,
   "threshold": 6,
   "toc_cell": false,
   "toc_section_display": "block",
   "toc_window_display": false
  }
 },
 "nbformat": 4,
 "nbformat_minor": 2
}
