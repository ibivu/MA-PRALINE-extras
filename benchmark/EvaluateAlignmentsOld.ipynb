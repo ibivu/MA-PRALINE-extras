{
 "cells": [
  {
   "cell_type": "code",
   "execution_count": 27,
   "metadata": {},
   "outputs": [],
   "source": [
    "import os.path as osp\n",
    "import os\n",
    "import subprocess\n",
    "import re\n",
    "import csv\n",
    "from collections import defaultdict\n",
    "\n",
    "import numpy as np"
   ]
  },
  {
   "cell_type": "code",
   "execution_count": 69,
   "metadata": {},
   "outputs": [],
   "source": [
    "RESULTS_INPUT_DIR = './old/result_tables/'\n",
    "ALIGNMENTS_INPUT_DIR = './old/output/'\n",
    "\n",
    "SCORE_BINARY = './bin/bali_score_reliable'\n",
    "SCORE_JAR = './FastSP/FastSP.jar'"
   ]
  },
  {
   "cell_type": "code",
   "execution_count": 33,
   "metadata": {},
   "outputs": [],
   "source": [
    "RE_FNAME = re.compile(r'(BB\\d{5})_glycoline_out.csv')\n",
    "\n",
    "sp_score_per_family_alpha = defaultdict(dict)\n",
    "for filename in os.listdir(RESULTS_INPUT_DIR):\n",
    "    m = RE_FNAME.match(filename)\n",
    "    if not m:\n",
    "        continue\n",
    "    \n",
    "    balibase = m.group(1)\n",
    "    with open(osp.join(RESULTS_INPUT_DIR, filename)) as f:\n",
    "        reader = csv.DictReader(f, dialect='excel-tab')\n",
    "    \n",
    "        for line in reader:\n",
    "            alpha = int(line['match_boost'])\n",
    "            sp_score = float(line['SP'])\n",
    "            \n",
    "            sp_score_per_family_alpha[balibase][alpha] = sp_score\n",
    "            "
   ]
  },
  {
   "cell_type": "code",
   "execution_count": 25,
   "metadata": {},
   "outputs": [],
   "source": [
    "all_alphas = sp_score_per_family_alpha.values()[0].keys()\n",
    "sp_scores_per_alpha = defaultdict(list)\n",
    "for alpha in all_alphas:\n",
    "    for alpha_dict in sp_score_per_family_alpha.itervalues():\n",
    "        sp_scores_per_alpha[alpha].append(alpha_dict[alpha])"
   ]
  },
  {
   "cell_type": "code",
   "execution_count": 31,
   "metadata": {},
   "outputs": [
    {
     "name": "stdout",
     "output_type": "stream",
     "text": [
      "0 0.5778014477258064 0.1711894527000108\n",
      "1 0.5835986734451611 0.1662362895299204\n",
      "2 0.5792744451161291 0.16595678264106942\n",
      "3 0.5736687943612904 0.17263914159950056\n",
      "4 0.5808652774064517 0.17603143836781995\n",
      "5 0.5871129936903225 0.16618260062397838\n",
      "6 0.5838400206258064 0.16814057815320219\n",
      "7 0.581393946916129 0.1689877331734701\n",
      "8 0.5817893596516129 0.16607236066697698\n",
      "9 0.5832793822419357 0.16752641999813428\n",
      "10 0.5838931781645162 0.16960926097811924\n",
      "11 0.5881131893903228 0.16545901498286464\n",
      "12 0.5873669961451614 0.16472092675556624\n",
      "13 0.5866402665483872 0.1651836946813968\n",
      "14 0.5909707575612906 0.15993889560932065\n",
      "15 0.5907678488774195 0.1610054839573338\n",
      "16 0.5912956176516131 0.16145761708734635\n",
      "17 0.5895376480935485 0.16656606858078643\n",
      "18 0.5895557185193548 0.16578646661054564\n",
      "19 0.5852875790903227 0.1677061277500758\n",
      "20 0.5820536845741936 0.16846532526990532\n",
      "21 0.5861430204387097 0.16878090659122297\n",
      "22 0.5891573090548389 0.16797742028251025\n",
      "23 0.5857637683129033 0.16706089382651967\n",
      "24 0.5926856964419356 0.16502194240128576\n",
      "25 0.5924114476161291 0.16516589562629436\n",
      "26 0.5929479720967742 0.1648865642012156\n",
      "27 0.5874563061516129 0.16565857813664225\n",
      "28 0.5870214607161292 0.16604574989301552\n",
      "29 0.5828059723451612 0.16686180164299635\n",
      "30 0.5829504056645161 0.16659432487603773\n",
      "31 0.5825771830161289 0.16903918396402243\n",
      "32 0.5838964118322579 0.1667097594759636\n",
      "33 0.5846726832612903 0.16515413718796138\n",
      "34 0.5833303060000001 0.16706623894675895\n",
      "35 0.5835616367741936 0.16723784712921957\n",
      "36 0.5820730709129033 0.17028180182855904\n",
      "37 0.5821113781 0.16984498888478106\n",
      "38 0.5832356346032259 0.16902085205466671\n",
      "39 0.583650278883871 0.16933343708159082\n",
      "40 0.5822979429387097 0.16933013548936734\n",
      "41 0.5821995814322581 0.16916790124139983\n",
      "42 0.5810039557225806 0.1688400673430334\n",
      "43 0.5840646281516129 0.16808958918360156\n",
      "44 0.5834694671193548 0.1672369941819304\n",
      "45 0.5832596938806451 0.16785883490385484\n",
      "46 0.5827370760580645 0.16705062312628172\n",
      "47 0.5824229628709677 0.16762095337952887\n",
      "48 0.5828175246903227 0.16730091853543702\n",
      "49 0.583407247867742 0.16767793697073397\n",
      "50 0.5832669365580645 0.1668909517609129\n"
     ]
    }
   ],
   "source": [
    "for alpha in all_alphas:\n",
    "    a = np.array(sp_scores_per_alpha[alpha])\n",
    "    print alpha, a.mean(), a.std()"
   ]
  },
  {
   "cell_type": "code",
   "execution_count": 68,
   "metadata": {},
   "outputs": [
    {
     "name": "stdout",
     "output_type": "stream",
     "text": [
      "Using XML format reference alignment\n",
      "\n",
      "Comparing test alignment in ./old/output/BB50012_glycoline_22.fasta\n",
      "with reference alignment in old/RV50/BB50012.xml\n",
      "\n",
      "\tCS score= 0.000\n",
      "\tSP score= 0.000\n",
      "\n"
     ]
    }
   ],
   "source": [
    "RE_FNAME = re.compile(r'(BB\\d{5})_glycoline_(.+)\\.fasta')\n",
    "RE_OUTPUT = re.compile(r\"SP score= (\\d\\.\\d\\d\\d)\")\n",
    "\n",
    "for filename in os.listdir(ALIGNMENTS_INPUT_DIR):\n",
    "    m = RE_FNAME.match(filename)\n",
    "    if not m:\n",
    "        continue\n",
    "    \n",
    "    balibase = m.group(1)\n",
    "    balibase_group = balibase[2:4]\n",
    "    alpha = int(m.group(2))\n",
    "    \n",
    "    \n",
    "    ref_path = osp.join('old', 'RV{}'.format(balibase_group), '{}.xml'.format(balibase))\n",
    "    aln_path = osp.join(ALIGNMENTS_INPUT_DIR, filename)\n",
    "    \n",
    "    out = subprocess.check_output([SCORE_BINARY, ref_path, aln_path])\n",
    "#     print RE_OUTPUT.search(out).group(1)\n",
    "    print out\n",
    "    break"
   ]
  },
  {
   "cell_type": "code",
   "execution_count": 41,
   "metadata": {},
   "outputs": [
    {
     "data": {
      "text/plain": [
       "{0,\n",
       " 5,\n",
       " 7,\n",
       " 8,\n",
       " 10,\n",
       " 15,\n",
       " 20,\n",
       " 25,\n",
       " 30,\n",
       " 35,\n",
       " 40,\n",
       " 45,\n",
       " 50,\n",
       " 55,\n",
       " 60,\n",
       " 65,\n",
       " 70,\n",
       " 75,\n",
       " 80,\n",
       " 85,\n",
       " 90,\n",
       " 95,\n",
       " 100}"
      ]
     },
     "execution_count": 41,
     "metadata": {},
     "output_type": "execute_result"
    }
   ],
   "source": [
    "all_alphas"
   ]
  },
  {
   "cell_type": "code",
   "execution_count": null,
   "metadata": {},
   "outputs": [],
   "source": []
  }
 ],
 "metadata": {
  "kernelspec": {
   "display_name": "Python 2",
   "language": "python",
   "name": "python2"
  },
  "language_info": {
   "codemirror_mode": {
    "name": "ipython",
    "version": 2
   },
   "file_extension": ".py",
   "mimetype": "text/x-python",
   "name": "python",
   "nbconvert_exporter": "python",
   "pygments_lexer": "ipython2",
   "version": "2.7.10"
  },
  "nav_menu": {},
  "toc": {
   "navigate_menu": true,
   "number_sections": true,
   "sideBar": true,
   "threshold": 6,
   "toc_cell": false,
   "toc_section_display": "block",
   "toc_window_display": false
  }
 },
 "nbformat": 4,
 "nbformat_minor": 2
}
